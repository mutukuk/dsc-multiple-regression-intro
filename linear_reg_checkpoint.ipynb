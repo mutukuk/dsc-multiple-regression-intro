{
  "cells": [
    {
      "cell_type": "markdown",
      "metadata": {
        "id": "view-in-github",
        "colab_type": "text"
      },
      "source": [
        "<a href=\"https://colab.research.google.com/github/mutukuk/dsc-multiple-regression-intro/blob/master/linear_reg_checkpoint.ipynb\" target=\"_parent\"><img src=\"https://colab.research.google.com/assets/colab-badge.svg\" alt=\"Open In Colab\"/></a>"
      ]
    },
    {
      "cell_type": "markdown",
      "metadata": {
        "nbgrader": {
          "grade": false,
          "grade_id": "cell-3578a4f6a92df65d",
          "locked": true,
          "schema_version": 3,
          "solution": false,
          "task": false
        },
        "id": "NSLp-QWoAP0E"
      },
      "source": [
        "# Linear Regression Checkpoint\n",
        "\n",
        "This checkpoint is designed to test your understanding of linear regression.\n",
        "\n",
        "Specifically, this will cover:\n",
        "\n",
        "* Creating simple and multiple linear regression models with StatsModels\n",
        "* Interpreting linear regression model metrics\n",
        "* Interpreting linear regression model parameters"
      ]
    },
    {
      "cell_type": "markdown",
      "metadata": {
        "nbgrader": {
          "grade": false,
          "grade_id": "cell-c20eb151e05b7a00",
          "locked": true,
          "schema_version": 3,
          "solution": false,
          "task": false
        },
        "id": "X35FGilZAP0F"
      },
      "source": [
        "## Your Task: Build Linear Regression Models to Predict Home Prices\n",
        "\n",
        "### Data Understanding\n",
        "\n",
        "You will be using the Ames Housing dataset, modeling the `SalePrice` using these numeric features:\n",
        "\n",
        "* `GrLivArea`: Above grade living area (square feet)\n",
        "* `GarageArea`: Size of garage (square feet)\n",
        "* `LotArea`: Lot size (square feet)\n",
        "* `LotFrontage`: Length of street connected to property (feet)"
      ]
    },
    {
      "cell_type": "code",
      "execution_count": 1,
      "metadata": {
        "nbgrader": {
          "grade": false,
          "grade_id": "cell-0c2618a86ae14fdf",
          "locked": true,
          "schema_version": 3,
          "solution": false,
          "task": false
        },
        "colab": {
          "base_uri": "https://localhost:8080/",
          "height": 238
        },
        "id": "Y8XfBVY9AP0G",
        "outputId": "95785991-3ca9-4b43-e17e-2c211deca49e"
      },
      "outputs": [
        {
          "output_type": "execute_result",
          "data": {
            "text/plain": [
              "    SalePrice  GrLivArea  GarageArea  LotArea  LotFrontage\n",
              "Id                                                        \n",
              "1      208500       1710         548     8450         65.0\n",
              "2      181500       1262         460     9600         80.0\n",
              "3      223500       1786         608    11250         68.0\n",
              "4      140000       1717         642     9550         60.0\n",
              "5      250000       2198         836    14260         84.0"
            ],
            "text/html": [
              "\n",
              "  <div id=\"df-3c9ddba1-f86a-4eb9-b1d8-e2548f1a79d3\" class=\"colab-df-container\">\n",
              "    <div>\n",
              "<style scoped>\n",
              "    .dataframe tbody tr th:only-of-type {\n",
              "        vertical-align: middle;\n",
              "    }\n",
              "\n",
              "    .dataframe tbody tr th {\n",
              "        vertical-align: top;\n",
              "    }\n",
              "\n",
              "    .dataframe thead th {\n",
              "        text-align: right;\n",
              "    }\n",
              "</style>\n",
              "<table border=\"1\" class=\"dataframe\">\n",
              "  <thead>\n",
              "    <tr style=\"text-align: right;\">\n",
              "      <th></th>\n",
              "      <th>SalePrice</th>\n",
              "      <th>GrLivArea</th>\n",
              "      <th>GarageArea</th>\n",
              "      <th>LotArea</th>\n",
              "      <th>LotFrontage</th>\n",
              "    </tr>\n",
              "    <tr>\n",
              "      <th>Id</th>\n",
              "      <th></th>\n",
              "      <th></th>\n",
              "      <th></th>\n",
              "      <th></th>\n",
              "      <th></th>\n",
              "    </tr>\n",
              "  </thead>\n",
              "  <tbody>\n",
              "    <tr>\n",
              "      <th>1</th>\n",
              "      <td>208500</td>\n",
              "      <td>1710</td>\n",
              "      <td>548</td>\n",
              "      <td>8450</td>\n",
              "      <td>65.0</td>\n",
              "    </tr>\n",
              "    <tr>\n",
              "      <th>2</th>\n",
              "      <td>181500</td>\n",
              "      <td>1262</td>\n",
              "      <td>460</td>\n",
              "      <td>9600</td>\n",
              "      <td>80.0</td>\n",
              "    </tr>\n",
              "    <tr>\n",
              "      <th>3</th>\n",
              "      <td>223500</td>\n",
              "      <td>1786</td>\n",
              "      <td>608</td>\n",
              "      <td>11250</td>\n",
              "      <td>68.0</td>\n",
              "    </tr>\n",
              "    <tr>\n",
              "      <th>4</th>\n",
              "      <td>140000</td>\n",
              "      <td>1717</td>\n",
              "      <td>642</td>\n",
              "      <td>9550</td>\n",
              "      <td>60.0</td>\n",
              "    </tr>\n",
              "    <tr>\n",
              "      <th>5</th>\n",
              "      <td>250000</td>\n",
              "      <td>2198</td>\n",
              "      <td>836</td>\n",
              "      <td>14260</td>\n",
              "      <td>84.0</td>\n",
              "    </tr>\n",
              "  </tbody>\n",
              "</table>\n",
              "</div>\n",
              "    <div class=\"colab-df-buttons\">\n",
              "\n",
              "  <div class=\"colab-df-container\">\n",
              "    <button class=\"colab-df-convert\" onclick=\"convertToInteractive('df-3c9ddba1-f86a-4eb9-b1d8-e2548f1a79d3')\"\n",
              "            title=\"Convert this dataframe to an interactive table.\"\n",
              "            style=\"display:none;\">\n",
              "\n",
              "  <svg xmlns=\"http://www.w3.org/2000/svg\" height=\"24px\" viewBox=\"0 -960 960 960\">\n",
              "    <path d=\"M120-120v-720h720v720H120Zm60-500h600v-160H180v160Zm220 220h160v-160H400v160Zm0 220h160v-160H400v160ZM180-400h160v-160H180v160Zm440 0h160v-160H620v160ZM180-180h160v-160H180v160Zm440 0h160v-160H620v160Z\"/>\n",
              "  </svg>\n",
              "    </button>\n",
              "\n",
              "  <style>\n",
              "    .colab-df-container {\n",
              "      display:flex;\n",
              "      gap: 12px;\n",
              "    }\n",
              "\n",
              "    .colab-df-convert {\n",
              "      background-color: #E8F0FE;\n",
              "      border: none;\n",
              "      border-radius: 50%;\n",
              "      cursor: pointer;\n",
              "      display: none;\n",
              "      fill: #1967D2;\n",
              "      height: 32px;\n",
              "      padding: 0 0 0 0;\n",
              "      width: 32px;\n",
              "    }\n",
              "\n",
              "    .colab-df-convert:hover {\n",
              "      background-color: #E2EBFA;\n",
              "      box-shadow: 0px 1px 2px rgba(60, 64, 67, 0.3), 0px 1px 3px 1px rgba(60, 64, 67, 0.15);\n",
              "      fill: #174EA6;\n",
              "    }\n",
              "\n",
              "    .colab-df-buttons div {\n",
              "      margin-bottom: 4px;\n",
              "    }\n",
              "\n",
              "    [theme=dark] .colab-df-convert {\n",
              "      background-color: #3B4455;\n",
              "      fill: #D2E3FC;\n",
              "    }\n",
              "\n",
              "    [theme=dark] .colab-df-convert:hover {\n",
              "      background-color: #434B5C;\n",
              "      box-shadow: 0px 1px 3px 1px rgba(0, 0, 0, 0.15);\n",
              "      filter: drop-shadow(0px 1px 2px rgba(0, 0, 0, 0.3));\n",
              "      fill: #FFFFFF;\n",
              "    }\n",
              "  </style>\n",
              "\n",
              "    <script>\n",
              "      const buttonEl =\n",
              "        document.querySelector('#df-3c9ddba1-f86a-4eb9-b1d8-e2548f1a79d3 button.colab-df-convert');\n",
              "      buttonEl.style.display =\n",
              "        google.colab.kernel.accessAllowed ? 'block' : 'none';\n",
              "\n",
              "      async function convertToInteractive(key) {\n",
              "        const element = document.querySelector('#df-3c9ddba1-f86a-4eb9-b1d8-e2548f1a79d3');\n",
              "        const dataTable =\n",
              "          await google.colab.kernel.invokeFunction('convertToInteractive',\n",
              "                                                    [key], {});\n",
              "        if (!dataTable) return;\n",
              "\n",
              "        const docLinkHtml = 'Like what you see? Visit the ' +\n",
              "          '<a target=\"_blank\" href=https://colab.research.google.com/notebooks/data_table.ipynb>data table notebook</a>'\n",
              "          + ' to learn more about interactive tables.';\n",
              "        element.innerHTML = '';\n",
              "        dataTable['output_type'] = 'display_data';\n",
              "        await google.colab.output.renderOutput(dataTable, element);\n",
              "        const docLink = document.createElement('div');\n",
              "        docLink.innerHTML = docLinkHtml;\n",
              "        element.appendChild(docLink);\n",
              "      }\n",
              "    </script>\n",
              "  </div>\n",
              "\n",
              "\n",
              "<div id=\"df-f2e4abcc-b52c-4f11-88ee-cb6d56baf923\">\n",
              "  <button class=\"colab-df-quickchart\" onclick=\"quickchart('df-f2e4abcc-b52c-4f11-88ee-cb6d56baf923')\"\n",
              "            title=\"Suggest charts\"\n",
              "            style=\"display:none;\">\n",
              "\n",
              "<svg xmlns=\"http://www.w3.org/2000/svg\" height=\"24px\"viewBox=\"0 0 24 24\"\n",
              "     width=\"24px\">\n",
              "    <g>\n",
              "        <path d=\"M19 3H5c-1.1 0-2 .9-2 2v14c0 1.1.9 2 2 2h14c1.1 0 2-.9 2-2V5c0-1.1-.9-2-2-2zM9 17H7v-7h2v7zm4 0h-2V7h2v10zm4 0h-2v-4h2v4z\"/>\n",
              "    </g>\n",
              "</svg>\n",
              "  </button>\n",
              "\n",
              "<style>\n",
              "  .colab-df-quickchart {\n",
              "      --bg-color: #E8F0FE;\n",
              "      --fill-color: #1967D2;\n",
              "      --hover-bg-color: #E2EBFA;\n",
              "      --hover-fill-color: #174EA6;\n",
              "      --disabled-fill-color: #AAA;\n",
              "      --disabled-bg-color: #DDD;\n",
              "  }\n",
              "\n",
              "  [theme=dark] .colab-df-quickchart {\n",
              "      --bg-color: #3B4455;\n",
              "      --fill-color: #D2E3FC;\n",
              "      --hover-bg-color: #434B5C;\n",
              "      --hover-fill-color: #FFFFFF;\n",
              "      --disabled-bg-color: #3B4455;\n",
              "      --disabled-fill-color: #666;\n",
              "  }\n",
              "\n",
              "  .colab-df-quickchart {\n",
              "    background-color: var(--bg-color);\n",
              "    border: none;\n",
              "    border-radius: 50%;\n",
              "    cursor: pointer;\n",
              "    display: none;\n",
              "    fill: var(--fill-color);\n",
              "    height: 32px;\n",
              "    padding: 0;\n",
              "    width: 32px;\n",
              "  }\n",
              "\n",
              "  .colab-df-quickchart:hover {\n",
              "    background-color: var(--hover-bg-color);\n",
              "    box-shadow: 0 1px 2px rgba(60, 64, 67, 0.3), 0 1px 3px 1px rgba(60, 64, 67, 0.15);\n",
              "    fill: var(--button-hover-fill-color);\n",
              "  }\n",
              "\n",
              "  .colab-df-quickchart-complete:disabled,\n",
              "  .colab-df-quickchart-complete:disabled:hover {\n",
              "    background-color: var(--disabled-bg-color);\n",
              "    fill: var(--disabled-fill-color);\n",
              "    box-shadow: none;\n",
              "  }\n",
              "\n",
              "  .colab-df-spinner {\n",
              "    border: 2px solid var(--fill-color);\n",
              "    border-color: transparent;\n",
              "    border-bottom-color: var(--fill-color);\n",
              "    animation:\n",
              "      spin 1s steps(1) infinite;\n",
              "  }\n",
              "\n",
              "  @keyframes spin {\n",
              "    0% {\n",
              "      border-color: transparent;\n",
              "      border-bottom-color: var(--fill-color);\n",
              "      border-left-color: var(--fill-color);\n",
              "    }\n",
              "    20% {\n",
              "      border-color: transparent;\n",
              "      border-left-color: var(--fill-color);\n",
              "      border-top-color: var(--fill-color);\n",
              "    }\n",
              "    30% {\n",
              "      border-color: transparent;\n",
              "      border-left-color: var(--fill-color);\n",
              "      border-top-color: var(--fill-color);\n",
              "      border-right-color: var(--fill-color);\n",
              "    }\n",
              "    40% {\n",
              "      border-color: transparent;\n",
              "      border-right-color: var(--fill-color);\n",
              "      border-top-color: var(--fill-color);\n",
              "    }\n",
              "    60% {\n",
              "      border-color: transparent;\n",
              "      border-right-color: var(--fill-color);\n",
              "    }\n",
              "    80% {\n",
              "      border-color: transparent;\n",
              "      border-right-color: var(--fill-color);\n",
              "      border-bottom-color: var(--fill-color);\n",
              "    }\n",
              "    90% {\n",
              "      border-color: transparent;\n",
              "      border-bottom-color: var(--fill-color);\n",
              "    }\n",
              "  }\n",
              "</style>\n",
              "\n",
              "  <script>\n",
              "    async function quickchart(key) {\n",
              "      const quickchartButtonEl =\n",
              "        document.querySelector('#' + key + ' button');\n",
              "      quickchartButtonEl.disabled = true;  // To prevent multiple clicks.\n",
              "      quickchartButtonEl.classList.add('colab-df-spinner');\n",
              "      try {\n",
              "        const charts = await google.colab.kernel.invokeFunction(\n",
              "            'suggestCharts', [key], {});\n",
              "      } catch (error) {\n",
              "        console.error('Error during call to suggestCharts:', error);\n",
              "      }\n",
              "      quickchartButtonEl.classList.remove('colab-df-spinner');\n",
              "      quickchartButtonEl.classList.add('colab-df-quickchart-complete');\n",
              "    }\n",
              "    (() => {\n",
              "      let quickchartButtonEl =\n",
              "        document.querySelector('#df-f2e4abcc-b52c-4f11-88ee-cb6d56baf923 button');\n",
              "      quickchartButtonEl.style.display =\n",
              "        google.colab.kernel.accessAllowed ? 'block' : 'none';\n",
              "    })();\n",
              "  </script>\n",
              "</div>\n",
              "\n",
              "    </div>\n",
              "  </div>\n"
            ],
            "application/vnd.google.colaboratory.intrinsic+json": {
              "type": "dataframe",
              "variable_name": "df",
              "summary": "{\n  \"name\": \"df\",\n  \"rows\": 1201,\n  \"fields\": [\n    {\n      \"column\": \"Id\",\n      \"properties\": {\n        \"dtype\": \"number\",\n        \"std\": 421,\n        \"min\": 1,\n        \"max\": 1460,\n        \"num_unique_values\": 1201,\n        \"samples\": [\n          293,\n          1239,\n          281\n        ],\n        \"semantic_type\": \"\",\n        \"description\": \"\"\n      }\n    },\n    {\n      \"column\": \"SalePrice\",\n      \"properties\": {\n        \"dtype\": \"number\",\n        \"std\": 83389,\n        \"min\": 34900,\n        \"max\": 755000,\n        \"num_unique_values\": 597,\n        \"samples\": [\n          372402,\n          395192,\n          315000\n        ],\n        \"semantic_type\": \"\",\n        \"description\": \"\"\n      }\n    },\n    {\n      \"column\": \"GrLivArea\",\n      \"properties\": {\n        \"dtype\": \"number\",\n        \"std\": 529,\n        \"min\": 334,\n        \"max\": 5642,\n        \"num_unique_values\": 760,\n        \"samples\": [\n          924,\n          2643,\n          1123\n        ],\n        \"semantic_type\": \"\",\n        \"description\": \"\"\n      }\n    },\n    {\n      \"column\": \"GarageArea\",\n      \"properties\": {\n        \"dtype\": \"number\",\n        \"std\": 221,\n        \"min\": 0,\n        \"max\": 1418,\n        \"num_unique_values\": 399,\n        \"samples\": [\n          198,\n          928,\n          308\n        ],\n        \"semantic_type\": \"\",\n        \"description\": \"\"\n      }\n    },\n    {\n      \"column\": \"LotArea\",\n      \"properties\": {\n        \"dtype\": \"number\",\n        \"std\": 7924,\n        \"min\": 1300,\n        \"max\": 215245,\n        \"num_unique_values\": 869,\n        \"samples\": [\n          11198,\n          4500,\n          8544\n        ],\n        \"semantic_type\": \"\",\n        \"description\": \"\"\n      }\n    },\n    {\n      \"column\": \"LotFrontage\",\n      \"properties\": {\n        \"dtype\": \"number\",\n        \"std\": 24.284751774483183,\n        \"min\": 21.0,\n        \"max\": 313.0,\n        \"num_unique_values\": 110,\n        \"samples\": [\n          150.0,\n          91.0,\n          84.0\n        ],\n        \"semantic_type\": \"\",\n        \"description\": \"\"\n      }\n    }\n  ]\n}"
            }
          },
          "metadata": {},
          "execution_count": 1
        }
      ],
      "source": [
        "# Run this cell without changes\n",
        "\n",
        "import pandas as pd\n",
        "import warnings\n",
        "warnings.filterwarnings('ignore')\n",
        "\n",
        "df = pd.read_csv(\"ames.csv\", index_col=0)\n",
        "df = df[[\"SalePrice\", \"GrLivArea\", \"GarageArea\", \"LotArea\", \"LotFrontage\"]].copy()\n",
        "df.dropna(inplace=True)\n",
        "df.head()"
      ]
    },
    {
      "cell_type": "markdown",
      "metadata": {
        "nbgrader": {
          "grade": false,
          "grade_id": "cell-b251b9dc9f044806",
          "locked": true,
          "schema_version": 3,
          "solution": false,
          "task": false
        },
        "id": "Ptd1E_QhAP0H"
      },
      "source": [
        "### Modeling\n",
        "\n",
        "You will apply an inferential modeling process using StatsModels. This means that you are trying to create the best model in terms of variance in `SalePrice` that is explained (i.e. R-Squared).\n",
        "\n",
        "You will build **two models — one simple linear regression model and one multiple linear regresssion model** — then you will interpret the model summaries.\n",
        "\n",
        "There are two relevant components of interpreting the model summaries: model **metrics** such as r-squared and p-values, which tell you how well your model is fit to the data, and model **parameters** (intercept and coefficients), which tell you how the model is using the feature(s) to predict the target.\n",
        "\n",
        "### Requirements"
      ]
    },
    {
      "cell_type": "markdown",
      "metadata": {
        "nbgrader": {
          "grade": false,
          "grade_id": "cell-b60866e4db6c8525",
          "locked": true,
          "schema_version": 3,
          "solution": false,
          "task": false
        },
        "id": "ubK31fo_AP0I"
      },
      "source": [
        "## 1. Build a Simple Linear Regression Using StatsModels\n",
        "\n",
        "Below, we use the `.corr()` method to find which features are most correlated with `SalePrice`:"
      ]
    },
    {
      "cell_type": "code",
      "execution_count": 2,
      "metadata": {
        "nbgrader": {
          "grade": false,
          "grade_id": "cell-a7f9739ece571cd3",
          "locked": true,
          "schema_version": 3,
          "solution": false,
          "task": false
        },
        "scrolled": true,
        "colab": {
          "base_uri": "https://localhost:8080/",
          "height": 241
        },
        "id": "AdTKy4stAP0J",
        "outputId": "485edd29-3f17-4acb-f5e1-23f8b3df2798"
      },
      "outputs": [
        {
          "output_type": "execute_result",
          "data": {
            "text/plain": [
              "SalePrice      1.000000\n",
              "GrLivArea      0.703557\n",
              "GarageArea     0.631761\n",
              "LotArea        0.311416\n",
              "LotFrontage    0.351799\n",
              "Name: SalePrice, dtype: float64"
            ],
            "text/html": [
              "<div>\n",
              "<style scoped>\n",
              "    .dataframe tbody tr th:only-of-type {\n",
              "        vertical-align: middle;\n",
              "    }\n",
              "\n",
              "    .dataframe tbody tr th {\n",
              "        vertical-align: top;\n",
              "    }\n",
              "\n",
              "    .dataframe thead th {\n",
              "        text-align: right;\n",
              "    }\n",
              "</style>\n",
              "<table border=\"1\" class=\"dataframe\">\n",
              "  <thead>\n",
              "    <tr style=\"text-align: right;\">\n",
              "      <th></th>\n",
              "      <th>SalePrice</th>\n",
              "    </tr>\n",
              "  </thead>\n",
              "  <tbody>\n",
              "    <tr>\n",
              "      <th>SalePrice</th>\n",
              "      <td>1.000000</td>\n",
              "    </tr>\n",
              "    <tr>\n",
              "      <th>GrLivArea</th>\n",
              "      <td>0.703557</td>\n",
              "    </tr>\n",
              "    <tr>\n",
              "      <th>GarageArea</th>\n",
              "      <td>0.631761</td>\n",
              "    </tr>\n",
              "    <tr>\n",
              "      <th>LotArea</th>\n",
              "      <td>0.311416</td>\n",
              "    </tr>\n",
              "    <tr>\n",
              "      <th>LotFrontage</th>\n",
              "      <td>0.351799</td>\n",
              "    </tr>\n",
              "  </tbody>\n",
              "</table>\n",
              "</div><br><label><b>dtype:</b> float64</label>"
            ]
          },
          "metadata": {},
          "execution_count": 2
        }
      ],
      "source": [
        "# Run this cell without changes\n",
        "df.corr()[\"SalePrice\"]"
      ]
    },
    {
      "cell_type": "markdown",
      "metadata": {
        "nbgrader": {
          "grade": false,
          "grade_id": "cell-ea72d0fe82eed8a9",
          "locked": true,
          "schema_version": 3,
          "solution": false,
          "task": false
        },
        "id": "ptPwSxCPAP0J"
      },
      "source": [
        "The `GrLivArea` feature has the highest correlation with `SalePrice`, so we will use it to build a simple linear regression model.\n",
        "\n",
        "Use the OLS model ([documentation here](https://www.statsmodels.org/devel/generated/statsmodels.regression.linear_model.OLS.html)) with:\n",
        "\n",
        "- `SalePrice` as the endogenous (dependent) variable\n",
        "- `GrLivArea` as the exogenous (independent) variable\n",
        "\n",
        "Don't forget to use `sm.add_constant` to ensure that there is an intercept term.\n",
        "\n",
        "Fill in the appropriate values in the cell below."
      ]
    },
    {
      "cell_type": "code",
      "execution_count": 3,
      "metadata": {
        "nbgrader": {
          "grade": false,
          "grade_id": "cell-652f04adad36b12a",
          "locked": false,
          "schema_version": 3,
          "solution": true,
          "task": false
        },
        "colab": {
          "base_uri": "https://localhost:8080/"
        },
        "id": "43Dr76iSAP0J",
        "outputId": "550e46cb-78a8-46ef-8f0f-bca18e545433"
      },
      "outputs": [
        {
          "output_type": "stream",
          "name": "stdout",
          "text": [
            "                            OLS Regression Results                            \n",
            "==============================================================================\n",
            "Dep. Variable:              SalePrice   R-squared:                       0.495\n",
            "Model:                            OLS   Adj. R-squared:                  0.495\n",
            "Method:                 Least Squares   F-statistic:                     1175.\n",
            "Date:                Wed, 26 Feb 2025   Prob (F-statistic):          4.39e-180\n",
            "Time:                        16:17:15   Log-Likelihood:                -14902.\n",
            "No. Observations:                1201   AIC:                         2.981e+04\n",
            "Df Residuals:                    1199   BIC:                         2.982e+04\n",
            "Df Model:                           1                                         \n",
            "Covariance Type:            nonrobust                                         \n",
            "==============================================================================\n",
            "                 coef    std err          t      P>|t|      [0.025      0.975]\n",
            "------------------------------------------------------------------------------\n",
            "const       1.347e+04   5171.332      2.605      0.009    3324.573    2.36e+04\n",
            "GrLivArea    110.7117      3.229     34.281      0.000     104.376     117.048\n",
            "==============================================================================\n",
            "Omnibus:                      197.122   Durbin-Watson:                   2.041\n",
            "Prob(Omnibus):                  0.000   Jarque-Bera (JB):             2702.386\n",
            "Skew:                           0.268   Prob(JB):                         0.00\n",
            "Kurtosis:                      10.329   Cond. No.                     4.84e+03\n",
            "==============================================================================\n",
            "\n",
            "Notes:\n",
            "[1] Standard Errors assume that the covariance matrix of the errors is correctly specified.\n",
            "[2] The condition number is large, 4.84e+03. This might indicate that there are\n",
            "strong multicollinearity or other numerical problems.\n"
          ]
        }
      ],
      "source": [
        "# CodeGrade step1\n",
        "\n",
        "import statsmodels.api as sm\n",
        "\n",
        "# Replace None with appropriate code\n",
        "exog = sm.add_constant(df[\"GrLivArea\"])\n",
        "endog = df[\"SalePrice\"]\n",
        "simple_model = sm.OLS(endog, exog)\n",
        "\n",
        "simple_model_results = simple_model.fit()\n",
        "print(simple_model_results.summary())"
      ]
    },
    {
      "cell_type": "code",
      "execution_count": 4,
      "metadata": {
        "id": "bo6uhqWhAP0J"
      },
      "outputs": [],
      "source": [
        "# simple_model should be an OLS model\n",
        "assert type(simple_model) == sm.OLS\n",
        "\n",
        "# simple_model should have 1 feature (other than the constant)\n",
        "assert simple_model.df_model == 1"
      ]
    },
    {
      "cell_type": "markdown",
      "metadata": {
        "nbgrader": {
          "grade": false,
          "grade_id": "cell-6a16843c25dfd25c",
          "locked": true,
          "schema_version": 3,
          "solution": false,
          "task": false
        },
        "id": "K2th6Mc7AP0K"
      },
      "source": [
        "## 2. Interpret Simple Linear Regression Model Metrics\n",
        "\n",
        "We want to know:\n",
        "\n",
        "1. How much of the variance is explained by this model? This is also known as the R-Squared. Fill in `r_squared` with this value — a floating point number between 0 and 1.\n",
        "2. Is the model statistically significant at $\\alpha = 0.05$? This is determined by comparing the probability of the f-statistic to the alpha. Fill in `model_is_significant` with this value — either `True` or `False`.\n",
        "\n",
        "You can either just look at the print-out above and fill in the values, or you can use attributes of `simple_model_results` ([documentation here](https://www.statsmodels.org/devel/generated/statsmodels.regression.linear_model.RegressionResults.html)). If you are getting stuck, it's usually easier to type the answer in rather than writing code to do it."
      ]
    },
    {
      "cell_type": "code",
      "execution_count": 6,
      "metadata": {
        "nbgrader": {
          "grade": false,
          "grade_id": "cell-58db32b0f8b50f61",
          "locked": false,
          "schema_version": 3,
          "solution": true,
          "task": false
        },
        "id": "FBv_fzEMAP0K"
      },
      "outputs": [],
      "source": [
        "# CodeGrade step2\n",
        "# Replace None with appropriate code\n",
        "r_squared = simple_model_results.rsquared\n",
        "model_is_significant = simple_model_results.f_pvalue < 0.05"
      ]
    },
    {
      "cell_type": "code",
      "execution_count": 7,
      "metadata": {
        "id": "7IxF25-pAP0K"
      },
      "outputs": [],
      "source": [
        "import numpy as np\n",
        "\n",
        "# r_squared should be a floating point value between 0 and 1\n",
        "assert 0 <= r_squared and r_squared <= 1\n",
        "assert type(r_squared) == float or type(r_squared) == np.float64\n",
        "\n",
        "# model_is_significant should be True or False\n",
        "assert model_is_significant == True or model_is_significant == False"
      ]
    },
    {
      "cell_type": "markdown",
      "metadata": {
        "nbgrader": {
          "grade": false,
          "grade_id": "cell-ce249a1b0434aa5b",
          "locked": true,
          "schema_version": 3,
          "solution": false,
          "task": false
        },
        "id": "brwrW7vLAP0L"
      },
      "source": [
        "## 3. Interpret Simple Linear Regression Parameters\n",
        "\n",
        "Now, we want to know what relationship the model has found between the feature and the target. Because this is a simple linear regression, it follows the format of $y = mx + b$ where $y$ is the `SalePrice`, $m$ is the slope of `GrLivArea`, $x$ is `GrLivArea`, and $b$ is the y-intercept (the value of $y$ when $x$ is 0).\n",
        "\n",
        "In the cell below, fill in appropriate values for `m` and `b`. Again, you can use the print-out above or use attributes of `simple_model_results`."
      ]
    },
    {
      "cell_type": "code",
      "execution_count": 9,
      "metadata": {
        "nbgrader": {
          "grade": false,
          "grade_id": "cell-e75986c4e6645412",
          "locked": false,
          "schema_version": 3,
          "solution": true,
          "task": false
        },
        "colab": {
          "base_uri": "https://localhost:8080/"
        },
        "id": "7-SLB5_-AP0L",
        "outputId": "07a90e04-ae8c-484a-ad8b-e71a56080f23"
      },
      "outputs": [
        {
          "output_type": "stream",
          "name": "stdout",
          "text": [
            "\n",
            "Our simple linear regression model found a y-intercept\n",
            "of $13,470.44, then for every increase of 1 square foot\n",
            "above-ground living area, the price increases by $110.71 \n",
            "\n"
          ]
        }
      ],
      "source": [
        "# CodeGrade step3\n",
        "# Replace None with appropriate code\n",
        "\n",
        "# Slope (coefficient of GrLivArea)\n",
        "m = simple_model_results.params[\"GrLivArea\"]\n",
        "\n",
        "# Intercept (coefficient of const)\n",
        "b = simple_model_results.params[\"const\"]\n",
        "\n",
        "print(f\"\"\"\n",
        "Our simple linear regression model found a y-intercept\n",
        "of ${round(b, 2):,}, then for every increase of 1 square foot\n",
        "above-ground living area, the price increases by ${round(m, 2)}\n",
        "\"\"\")"
      ]
    },
    {
      "cell_type": "code",
      "execution_count": 10,
      "metadata": {
        "id": "-hE-VnmfAP0L"
      },
      "outputs": [],
      "source": [
        "from numbers import Number\n",
        "\n",
        "# m should be a number\n",
        "assert isinstance(m, Number)\n",
        "\n",
        "# b should be a number\n",
        "assert isinstance(b, Number)"
      ]
    },
    {
      "cell_type": "markdown",
      "metadata": {
        "nbgrader": {
          "grade": false,
          "grade_id": "cell-99898204e2a83336",
          "locked": true,
          "schema_version": 3,
          "solution": false,
          "task": false
        },
        "id": "gs29WEktAP0M"
      },
      "source": [
        "## 4. Build a Multiple Regression Model Using StatsModels\n",
        "\n",
        "Now, build an OLS model that contains all of the columns present in `df`.\n",
        "\n",
        "Specifically, your model should have `SalePrice` as the target, and these columns as features:\n",
        "\n",
        "* `GrLivArea`\n",
        "* `GarageArea`\n",
        "* `LotArea`\n",
        "* `LotFrontage`\n",
        "\n",
        "Remember to also account for the intercept as you did above!"
      ]
    },
    {
      "cell_type": "code",
      "execution_count": 15,
      "metadata": {
        "nbgrader": {
          "grade": false,
          "grade_id": "cell-bd6e3935a342ed4b",
          "locked": false,
          "schema_version": 3,
          "solution": true,
          "task": false
        },
        "colab": {
          "base_uri": "https://localhost:8080/"
        },
        "id": "TmDVgwYXAP0M",
        "outputId": "91e3945f-8f57-40d3-9a86-061660be987a"
      },
      "outputs": [
        {
          "output_type": "stream",
          "name": "stdout",
          "text": [
            "                                 OLS Regression Results                                \n",
            "=======================================================================================\n",
            "Dep. Variable:              SalePrice   R-squared (uncentered):                   0.932\n",
            "Model:                            OLS   Adj. R-squared (uncentered):              0.932\n",
            "Method:                 Least Squares   F-statistic:                              4111.\n",
            "Date:                Wed, 26 Feb 2025   Prob (F-statistic):                        0.00\n",
            "Time:                        16:51:24   Log-Likelihood:                         -14742.\n",
            "No. Observations:                1201   AIC:                                  2.949e+04\n",
            "Df Residuals:                    1197   BIC:                                  2.951e+04\n",
            "Df Model:                           4                                                  \n",
            "Covariance Type:            nonrobust                                                  \n",
            "===============================================================================\n",
            "                  coef    std err          t      P>|t|      [0.025      0.975]\n",
            "-------------------------------------------------------------------------------\n",
            "GrLivArea      76.5578      3.082     24.840      0.000      70.511      82.605\n",
            "GarageArea    141.1060      7.755     18.195      0.000     125.891     156.321\n",
            "LotArea         0.8286      0.212      3.916      0.000       0.413       1.244\n",
            "LotFrontage  -127.7963     63.782     -2.004      0.045    -252.933      -2.660\n",
            "==============================================================================\n",
            "Omnibus:                      252.846   Durbin-Watson:                   2.043\n",
            "Prob(Omnibus):                  0.000   Jarque-Bera (JB):             7332.809\n",
            "Skew:                           0.196   Prob(JB):                         0.00\n",
            "Kurtosis:                      15.099   Cond. No.                         545.\n",
            "==============================================================================\n",
            "\n",
            "Notes:\n",
            "[1] R² is computed without centering (uncentered) since the model does not contain a constant.\n",
            "[2] Standard Errors assume that the covariance matrix of the errors is correctly specified.\n"
          ]
        }
      ],
      "source": [
        "# CodeGrade step4\n",
        "# Replace None with appropriate code\n",
        "\n",
        "exog = df[[\"GrLivArea\", \"GarageArea\", \"LotArea\", \"LotFrontage\"]]\n",
        "endog = df[\"SalePrice\"]\n",
        "multiple_model = sm.OLS(endog, exog)\n",
        "\n",
        "multiple_model_results = multiple_model.fit()\n",
        "print(multiple_model_results.summary())"
      ]
    },
    {
      "cell_type": "code",
      "execution_count": 16,
      "metadata": {
        "id": "aYRX3swjAP0M"
      },
      "outputs": [],
      "source": [
        "# multiple_model should be an OLS model\n",
        "assert type(multiple_model) == sm.OLS\n",
        "\n",
        "# multiple_model should have 4 features (other than the constant)\n",
        "assert multiple_model.df_model == 4"
      ]
    },
    {
      "cell_type": "markdown",
      "metadata": {
        "nbgrader": {
          "grade": false,
          "grade_id": "cell-21fd65acb59f4dc2",
          "locked": true,
          "schema_version": 3,
          "solution": false,
          "task": false
        },
        "id": "_dKi6Z6jAP0N"
      },
      "source": [
        "## 5. Interpret Multiple Regression Model Results\n",
        "\n",
        "Now we want to know: **is our multiple linear regression model a better fit than our simple linear regression model? We'll measure this in terms of percentage of variance explained (r-squared)**, where a higher r-squared indicates a better fit.\n",
        "\n",
        "Replace `second_model_is_better` with either `True` if this model is better, or `False` if the previous model was better (or the two models are exactly the same)."
      ]
    },
    {
      "cell_type": "code",
      "execution_count": 18,
      "metadata": {
        "nbgrader": {
          "grade": false,
          "grade_id": "cell-f0746c6b33a4592d",
          "locked": false,
          "schema_version": 3,
          "solution": true,
          "task": false
        },
        "id": "Vo5ow13AAP0N"
      },
      "outputs": [],
      "source": [
        "# CodeGrade step5.1\n",
        "# Replace None with appropriate code\n",
        "second_model_is_better = True"
      ]
    },
    {
      "cell_type": "code",
      "execution_count": 19,
      "metadata": {
        "id": "AZ_G1wsVAP0N"
      },
      "outputs": [],
      "source": [
        "# second_model_is_better should be True or False\n",
        "assert second_model_is_better == True or second_model_is_better == False"
      ]
    },
    {
      "cell_type": "markdown",
      "metadata": {
        "nbgrader": {
          "grade": false,
          "grade_id": "cell-0475c4a1b851ba21",
          "locked": true,
          "schema_version": 3,
          "solution": false,
          "task": false
        },
        "id": "AiCB-HTxAP0N"
      },
      "source": [
        "One of the feature coefficients is not statistically significant. Which one is it?"
      ]
    },
    {
      "cell_type": "markdown",
      "metadata": {
        "nbgrader": {
          "grade": false,
          "grade_id": "cell-18ddedc7874e23e3",
          "locked": true,
          "schema_version": 3,
          "solution": false,
          "task": false
        },
        "id": "HFemTwtMAP0N"
      },
      "source": [
        "Replace `not_significant` with the string name of the feature, which should be one of these four:\n",
        "\n",
        "* `GrLivArea`\n",
        "* `GarageArea`\n",
        "* `LotArea`\n",
        "* `LotFrontage`"
      ]
    },
    {
      "cell_type": "code",
      "execution_count": 20,
      "metadata": {
        "nbgrader": {
          "grade": false,
          "grade_id": "cell-9822a93057158dfd",
          "locked": false,
          "schema_version": 3,
          "solution": true,
          "task": false
        },
        "id": "rq3t3ei8AP0N"
      },
      "outputs": [],
      "source": [
        "# CodeGrade step5.2\n",
        "# Replace None with appropriate string name for the feature\n",
        "not_significant = \"LotFrontage\""
      ]
    },
    {
      "cell_type": "code",
      "execution_count": 21,
      "metadata": {
        "id": "NUbRm_7qAP0O"
      },
      "outputs": [],
      "source": [
        "# not_significant should be a string\n",
        "assert type(not_significant) == str\n",
        "\n",
        "# It should be one of the features in df\n",
        "assert not_significant in df.columns"
      ]
    }
  ],
  "metadata": {
    "celltoolbar": "Create Assignment",
    "kernelspec": {
      "display_name": "Python (learn-env)",
      "language": "python",
      "name": "learn-env"
    },
    "language_info": {
      "codemirror_mode": {
        "name": "ipython",
        "version": 3
      },
      "file_extension": ".py",
      "mimetype": "text/x-python",
      "name": "python",
      "nbconvert_exporter": "python",
      "pygments_lexer": "ipython3",
      "version": "3.8.5"
    },
    "colab": {
      "provenance": [],
      "include_colab_link": true
    }
  },
  "nbformat": 4,
  "nbformat_minor": 0
}